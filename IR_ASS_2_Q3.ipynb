{
  "nbformat": 4,
  "nbformat_minor": 0,
  "metadata": {
    "colab": {
      "name": "IR_ASS_2_Q3.ipynb",
      "provenance": [],
      "collapsed_sections": []
    },
    "kernelspec": {
      "name": "python3",
      "display_name": "Python 3"
    },
    "language_info": {
      "name": "python"
    }
  },
  "cells": [
    {
      "cell_type": "code",
      "metadata": {
        "id": "bsEpVlCuk5yO"
      },
      "source": [
        "with open('/content/drive/MyDrive/IR-assignment-2-data.txt', 'r') as f:\n",
        "  lines = f.readlines()"
      ],
      "execution_count": 95,
      "outputs": []
    },
    {
      "cell_type": "markdown",
      "metadata": {
        "id": "MyhfPpeObVb9"
      },
      "source": [
        "# Part 2"
      ]
    },
    {
      "cell_type": "code",
      "metadata": {
        "id": "cZUPqE42M7Ij"
      },
      "source": [
        "relevance_scores = []\n",
        "\n",
        "for line in lines:\n",
        "  c     = line.split()\n",
        "  a, r  = int(c[0]), c[1]\n",
        "  if r!=\"qid:4\":continue\n",
        "  relevance_scores.append(a)\n",
        "\n",
        "relevance_scores.sort(reverse=True)"
      ],
      "execution_count": 96,
      "outputs": []
    },
    {
      "cell_type": "markdown",
      "metadata": {
        "id": "KnlPf8i6v8IF"
      },
      "source": [
        "Directly using relevance scores here."
      ]
    },
    {
      "cell_type": "code",
      "metadata": {
        "colab": {
          "base_uri": "https://localhost:8080/"
        },
        "id": "ng8oaHXLgIoM",
        "outputId": "0d2dd685-ecaa-468c-8931-2d0c461b7afb"
      },
      "source": [
        "print(relevance_scores)"
      ],
      "execution_count": 97,
      "outputs": [
        {
          "output_type": "stream",
          "text": [
            "[3, 2, 2, 2, 2, 2, 2, 2, 2, 2, 2, 2, 2, 2, 2, 2, 2, 2, 1, 1, 1, 1, 1, 1, 1, 1, 1, 1, 1, 1, 1, 1, 1, 1, 1, 1, 1, 1, 1, 1, 1, 1, 1, 1, 0, 0, 0, 0, 0, 0, 0, 0, 0, 0, 0, 0, 0, 0, 0, 0, 0, 0, 0, 0, 0, 0, 0, 0, 0, 0, 0, 0, 0, 0, 0, 0, 0, 0, 0, 0, 0, 0, 0, 0, 0, 0, 0, 0, 0, 0, 0, 0, 0, 0, 0, 0, 0, 0, 0, 0, 0, 0, 0]\n"
          ],
          "name": "stdout"
        }
      ]
    },
    {
      "cell_type": "markdown",
      "metadata": {
        "id": "E1wVCQ_dwAkt"
      },
      "source": [
        "Tabulating count for each relevance score."
      ]
    },
    {
      "cell_type": "code",
      "metadata": {
        "id": "RqZOAe6AgKbZ"
      },
      "source": [
        "rel_dict = {}\n",
        "for i in relevance_scores:\n",
        "  if i not in rel_dict:\n",
        "    rel_dict[i] = 0\n",
        "  rel_dict[i] += 1"
      ],
      "execution_count": 98,
      "outputs": []
    },
    {
      "cell_type": "code",
      "metadata": {
        "colab": {
          "base_uri": "https://localhost:8080/"
        },
        "id": "z2imH5OmgecW",
        "outputId": "cdc2bb86-ffaa-4e7b-9f06-217e61f7e559"
      },
      "source": [
        "rel_dict"
      ],
      "execution_count": 99,
      "outputs": [
        {
          "output_type": "execute_result",
          "data": {
            "text/plain": [
              "{0: 59, 1: 26, 2: 17, 3: 1}"
            ]
          },
          "metadata": {
            "tags": []
          },
          "execution_count": 99
        }
      ]
    },
    {
      "cell_type": "markdown",
      "metadata": {
        "id": "oIJbWZkepTxT"
      },
      "source": [
        "We can re-rank each document with the same relevance score such that the maximum DCG remains the same. In this case, the total number of ways would be $59!\\times26!\\times17!\\times1$, which would also be the number of unique files made."
      ]
    },
    {
      "cell_type": "code",
      "metadata": {
        "colab": {
          "base_uri": "https://localhost:8080/"
        },
        "id": "YD3r27PHgfU6",
        "outputId": "510155c9-9a30-4640-f487-a445776c2750"
      },
      "source": [
        "dcg = relevance_scores[0]\n",
        "for i in range(len(relevance_scores)):\n",
        "  if relevance_scores[i]==dcg:continue                # Skip the initial value, as it has already been considered.\n",
        "  dcg += relevance_scores[i]/(np.log(i+1)/np.log(2))  # Follows 1-indexing, adjust accordingly. \n",
        "\n",
        "print(\"Max DCG:\", dcg)"
      ],
      "execution_count": 100,
      "outputs": [
        {
          "output_type": "stream",
          "text": [
            "Max DCG: 20.989750804831445\n"
          ],
          "name": "stdout"
        }
      ]
    },
    {
      "cell_type": "markdown",
      "metadata": {
        "id": "1vfUQ9LCqTaB"
      },
      "source": [
        "Max DCG: 20.989750804831445\n"
      ]
    },
    {
      "cell_type": "markdown",
      "metadata": {
        "id": "Vvv4aGTwv3Ck"
      },
      "source": [
        "Writing new ranking for $qid:4$ to file:"
      ]
    },
    {
      "cell_type": "code",
      "metadata": {
        "id": "K0gmTNRFocLb"
      },
      "source": [
        "all_lines = []\n",
        "\n",
        "for line in lines:\n",
        "  c = line.split()\n",
        "  r = c[1]\n",
        "  if r!=\"qid:4\":continue\n",
        "  all_lines.append(c)\n",
        "\n",
        "all_lines.sort(reverse=True, key=lambda x: int(x[0]))"
      ],
      "execution_count": 101,
      "outputs": []
    },
    {
      "cell_type": "code",
      "metadata": {
        "id": "_vL2AZ3tq3NI"
      },
      "source": [
        "with open('/content/qid_4_max_dcg.txt', 'w') as f:\n",
        "  for line in all_lines:\n",
        "    f.write(' '.join(line)+'\\n')"
      ],
      "execution_count": 102,
      "outputs": []
    },
    {
      "cell_type": "markdown",
      "metadata": {
        "id": "DGNPpoEQs-BS"
      },
      "source": [
        "# Part 3"
      ]
    },
    {
      "cell_type": "markdown",
      "metadata": {
        "id": "z94LGq7xtqqM"
      },
      "source": [
        "We use the idealized ranking from the previous part to calculate the DCG at rank $n$."
      ]
    },
    {
      "cell_type": "code",
      "metadata": {
        "id": "fOb0sr0ytC6R"
      },
      "source": [
        "relevance_scores  = []\n",
        "ideal_scores      = []\n",
        "\n",
        "for line in lines:\n",
        "  c     = line.split()\n",
        "  a, r  = int(c[0]), c[1]\n",
        "  if r!=\"qid:4\":continue\n",
        "  relevance_scores.append(a)\n",
        "  ideal_scores.append(a)\n",
        "\n",
        "ideal_scores.sort(reverse=True)"
      ],
      "execution_count": 103,
      "outputs": []
    },
    {
      "cell_type": "code",
      "metadata": {
        "colab": {
          "base_uri": "https://localhost:8080/"
        },
        "id": "AqchtSfUuhh5",
        "outputId": "743c0826-9c6f-4830-807a-c4eb81d962b3"
      },
      "source": [
        "print(relevance_scores)\n",
        "print(ideal_scores)"
      ],
      "execution_count": 104,
      "outputs": [
        {
          "output_type": "stream",
          "text": [
            "[0, 0, 0, 0, 1, 0, 1, 3, 0, 0, 1, 0, 0, 1, 0, 0, 0, 1, 2, 2, 1, 2, 2, 0, 1, 2, 0, 0, 0, 1, 0, 0, 1, 0, 2, 0, 2, 2, 1, 0, 2, 0, 0, 0, 0, 0, 0, 0, 0, 0, 0, 0, 2, 1, 0, 1, 0, 0, 2, 0, 1, 2, 2, 0, 0, 0, 1, 0, 2, 0, 0, 0, 1, 0, 1, 1, 2, 0, 0, 0, 0, 0, 1, 1, 1, 1, 0, 0, 1, 0, 2, 0, 1, 0, 0, 0, 1, 0, 0, 1, 2, 1, 0]\n",
            "[3, 2, 2, 2, 2, 2, 2, 2, 2, 2, 2, 2, 2, 2, 2, 2, 2, 2, 1, 1, 1, 1, 1, 1, 1, 1, 1, 1, 1, 1, 1, 1, 1, 1, 1, 1, 1, 1, 1, 1, 1, 1, 1, 1, 0, 0, 0, 0, 0, 0, 0, 0, 0, 0, 0, 0, 0, 0, 0, 0, 0, 0, 0, 0, 0, 0, 0, 0, 0, 0, 0, 0, 0, 0, 0, 0, 0, 0, 0, 0, 0, 0, 0, 0, 0, 0, 0, 0, 0, 0, 0, 0, 0, 0, 0, 0, 0, 0, 0, 0, 0, 0, 0]\n"
          ],
          "name": "stdout"
        }
      ]
    },
    {
      "cell_type": "markdown",
      "metadata": {
        "id": "JAdCg8cpuZ8B"
      },
      "source": [
        "## Part 3a."
      ]
    },
    {
      "cell_type": "code",
      "metadata": {
        "colab": {
          "base_uri": "https://localhost:8080/"
        },
        "id": "Kxn-oTS3uCfZ",
        "outputId": "89b75a81-534f-4feb-e503-16945f560138"
      },
      "source": [
        "dcg_50  = relevance_scores[0]\n",
        "idcg_50 = ideal_scores[0]\n",
        "\n",
        "for i in range(50):\n",
        "  if relevance_scores[i]==dcg_50:continue                # Skip the initial value, as it has already been considered.\n",
        "  dcg_50 += relevance_scores[i]/(np.log(i+1)/np.log(2))  # Follows 1-indexing, adjust accordingly. \n",
        "\n",
        "for i in range(50):\n",
        "  if ideal_scores[i]==idcg_50:continue                # Skip the initial value, as it has already been considered.\n",
        "  idcg_50 += ideal_scores[i]/(np.log(i+1)/np.log(2))  # Follows 1-indexing, adjust accordingly. \n",
        "\n",
        "print(\"NDCG@50:\", dcg_50/idcg_50)"
      ],
      "execution_count": 105,
      "outputs": [
        {
          "output_type": "stream",
          "text": [
            "NDCG@50: 0.3521042740324887\n"
          ],
          "name": "stdout"
        }
      ]
    },
    {
      "cell_type": "markdown",
      "metadata": {
        "id": "ZxsN0mACvNsy"
      },
      "source": [
        "NDCG@50: 0.3521042740324887"
      ]
    },
    {
      "cell_type": "markdown",
      "metadata": {
        "id": "JTwMb3ikvUzz"
      },
      "source": [
        "## Part 3b."
      ]
    },
    {
      "cell_type": "code",
      "metadata": {
        "colab": {
          "base_uri": "https://localhost:8080/"
        },
        "id": "ajVghe4-vSDr",
        "outputId": "faf02024-54c4-4607-fd71-9530e38775fb"
      },
      "source": [
        "dcg   = relevance_scores[0]\n",
        "idcg  = ideal_scores[0]\n",
        "\n",
        "for i in range(len(relevance_scores)):\n",
        "  if relevance_scores[i]==dcg:continue                # Skip the initial value, as it has already been considered.\n",
        "  dcg += relevance_scores[i]/(np.log(i+1)/np.log(2))  # Follows 1-indexing, adjust accordingly. \n",
        "\n",
        "for i in range(len(ideal_scores)):\n",
        "  if ideal_scores[i]==idcg:continue                # Skip the initial value, as it has already been considered.\n",
        "  idcg += ideal_scores[i]/(np.log(i+1)/np.log(2))  # Follows 1-indexing, adjust accordingly. \n",
        "\n",
        "print(\"NDCG of full dataset:\", dcg/idcg)"
      ],
      "execution_count": 107,
      "outputs": [
        {
          "output_type": "stream",
          "text": [
            "NDCG of full dataset: 0.5979226516897831\n"
          ],
          "name": "stdout"
        }
      ]
    },
    {
      "cell_type": "markdown",
      "metadata": {
        "id": "IIVjA8sFvlLz"
      },
      "source": [
        "NDCG for the whole dataset: 0.5979226516897831"
      ]
    },
    {
      "cell_type": "markdown",
      "metadata": {
        "id": "kY07_7KpDpUz"
      },
      "source": [
        "# Part 4"
      ]
    },
    {
      "cell_type": "markdown",
      "metadata": {
        "id": "_wbAZFkJwq6E"
      },
      "source": [
        "Relevance values belong to $[0,4]$, but we will consider anything above and equal to $1$ as a positive sample."
      ]
    },
    {
      "cell_type": "code",
      "metadata": {
        "id": "cPN8AO-6D4Ch"
      },
      "source": [
        "scores  = []              # Tf-idf score list.\n",
        "max_val = -float('inf')   # For normalizing scores.\n",
        "min_val = float('inf')    # For normalizing scores.\n",
        "gt      = []              # Ground truth relevance prediction, as per given file.\n",
        "pred    = []              # Predicted relevance, {0,1}.\n",
        "\n",
        "for line in lines:\n",
        "  c       = line.split()\n",
        "  a, r, b = int(c[0]), c[1], float(c[76][3:])\n",
        "\n",
        "  if r!=\"qid:4\":continue\n",
        "  if b >= max_val: max_val = b\n",
        "  if b < min_val: min_val = b\n",
        "\n",
        "  if a==0:\n",
        "    gt.append(0)\n",
        "  else:\n",
        "    gt.append(1)\n",
        "  \n",
        "  scores.append(b)\n",
        "\n",
        "for score in scores:\n",
        "  a = (score - min_val)/(max_val - min_val)   # Normalizing scores.\n",
        "  pred.append(a)\n",
        "\n",
        "import numpy as np\n",
        "\n",
        "precision_scores = []\n",
        "recall_scores = []\n",
        "thresholds = np.linspace(0, 1, 100)           # Thresholding.\n",
        "\n",
        "from sklearn.metrics import precision_score\n",
        "from sklearn.metrics import recall_score\n",
        "\n",
        "for t in thresholds:\n",
        "  temp = []\n",
        "  for p in pred:\n",
        "    if p >= t:\n",
        "      temp.append(1)\n",
        "    else:\n",
        "      temp.append(0)\n",
        "\n",
        "  precision_scores.append(precision_score(gt, temp))  # Calculating precision\n",
        "  recall_scores.append(recall_score(gt, temp))        # Calculating recall\n"
      ],
      "execution_count": 108,
      "outputs": []
    },
    {
      "cell_type": "markdown",
      "metadata": {
        "id": "Js8F4KN3xfir"
      },
      "source": [
        "Plotting precision-recall curve."
      ]
    },
    {
      "cell_type": "code",
      "metadata": {
        "colab": {
          "base_uri": "https://localhost:8080/",
          "height": 295
        },
        "id": "qLx2RZMVM4cz",
        "outputId": "5b78b546-2339-4d4e-a368-00e13c93240f"
      },
      "source": [
        "import matplotlib.pyplot as plt\n",
        "plt.plot(recall_scores, precision_scores)\n",
        "plt.title(\"Precision-Recall curve\")\n",
        "plt.ylabel(\"Precision\")\n",
        "plt.xlabel(\"Recall\")\n",
        "plt.show()"
      ],
      "execution_count": 109,
      "outputs": [
        {
          "output_type": "display_data",
          "data": {
            "image/png": "[encoded data removed]",
            "text/plain": [
              "<Figure size 432x288 with 1 Axes>"
            ]
          },
          "metadata": {
            "tags": [],
            "needs_background": "light"
          }
        }
      ]
    }
  ]
}